{
 "cells": [
  {
   "cell_type": "markdown",
   "metadata": {},
   "source": [
    "# Homework One - Writing a Well Formed Research Question"
   ]
  },
  {
   "cell_type": "markdown",
   "metadata": {},
   "source": [
    "Using the same dataset as UCLA's [Logit Regression in R tutorial](http://www.ats.ucla.edu/stat/r/dae/logit.htm), we will attempt to identify which factors may or may not influence admission to graduate school. "
   ]
  },
  {
   "cell_type": "markdown",
   "metadata": {},
   "source": [
    "**Data Dictionary**"
   ]
  },
  {
   "cell_type": "markdown",
   "metadata": {},
   "source": [
    "| Variable | Description | \n",
    "| ------------- |:-------------:| \n",
    "| **admit**     | binary value indicating if a candidate was admitted | \n",
    "| **gre**      | float variable representing GRE score     | \n",
    "| **gpa** | float variable representing grade point avg      | \n",
    "| **school_rank** | rank of applicant's undergraduate alma mater, 1 high - 4 = low | "
   ]
  },
  {
   "cell_type": "markdown",
   "metadata": {},
   "source": [
    "**Outcome Variable:**  admit <br>  *Admission to graduate school is the outcome*  <br><br>\n",
    "**Predictor Variables:** gpa, gre, and rank   <br> *Possible predictors of admission to graduate school*"
   ]
  },
  {
   "cell_type": "markdown",
   "metadata": {},
   "source": [
    "**Data Timeframe:** not specified in dataset"
   ]
  },
  {
   "cell_type": "markdown",
   "metadata": {},
   "source": [
    "**Hypothesis:** A student is more likely to be admitted into graduate school if the student has a higher than average GPA, higher than average GRE scores, or attended a prestigious university for undergrad. "
   ]
  },
  {
   "cell_type": "markdown",
   "metadata": {},
   "source": [
    "### Problem Statement:  Can we predict what factors would most likely contribute to a student’s acceptance rate? "
   ]
  },
  {
   "cell_type": "markdown",
   "metadata": {},
   "source": [
    "**Exploratory Data Analysis:**<br><br>\n",
    "Exploratory data analysis would consist of: <br>\n",
    "\n",
    "1. Describing the data to look at means, median, variation and dispersion of the data.  \n",
    "2. Visualizing the distribution of the data using box plots and histograms, allowing us to quickly spot outliers which might skew the data.\n",
    "3. Looking for positive and negative correlation via visualization using scatter plots.  \n",
    "4. Looking for skewness and kurtosis  in the distribution curve.\n"
   ]
  },
  {
   "cell_type": "markdown",
   "metadata": {},
   "source": [
    "**Risks and Assumptions:**<br><br>Assumptions are that the sample data will contain a normal distribution of data. Assumption that there will be some correlation between the outcome variable and at least one predictor. Risks are that even if there is a correlation, we cannot determine a causal relationship between outcome and predictor. "
   ]
  },
  {
   "cell_type": "code",
   "execution_count": null,
   "metadata": {
    "collapsed": true
   },
   "outputs": [],
   "source": []
  }
 ],
 "metadata": {
  "kernelspec": {
   "display_name": "Python 2",
   "language": "python",
   "name": "python2"
  },
  "language_info": {
   "codemirror_mode": {
    "name": "ipython",
    "version": 2
   },
   "file_extension": ".py",
   "mimetype": "text/x-python",
   "name": "python",
   "nbconvert_exporter": "python",
   "pygments_lexer": "ipython2",
   "version": "2.7.13"
  }
 },
 "nbformat": 4,
 "nbformat_minor": 2
}
